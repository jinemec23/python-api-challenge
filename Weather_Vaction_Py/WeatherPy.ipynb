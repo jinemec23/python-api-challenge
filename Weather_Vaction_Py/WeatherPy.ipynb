{
 "cells": [
  {
   "cell_type": "markdown",
   "metadata": {},
   "source": [
    "# WeatherPy\n",
    "----\n",
    "\n",
    "#### Note\n",
    "* Instructions have been included for each segment. You do not have to follow them exactly, but they are included to help you think through the steps."
   ]
  },
  {
   "cell_type": "code",
   "execution_count": 1,
   "metadata": {
    "scrolled": true
   },
   "outputs": [],
   "source": [
    "# Dependencies and Setup\n",
    "import matplotlib.pyplot as plt\n",
    "import pandas as pd\n",
    "import numpy as np\n",
    "import requests\n",
    "import time\n",
    "import scipy.stats as st\n",
    "from scipy.stats import linregress\n",
    "import json\n",
    "\n",
    "# Import API key\n",
    "from config import api_key\n",
    "\n",
    "# Incorporated citipy to determine city based on latitude and longitude\n",
    "from citipy import citipy\n",
    "\n",
    "# Output File (CSV)\n",
    "output_data_file = \"output_data/cities.csv\"\n",
    "\n",
    "# Range of latitudes and longitudes\n",
    "lat_range = (-90, 90)\n",
    "lng_range = (-180, 180)"
   ]
  },
  {
   "cell_type": "markdown",
   "metadata": {},
   "source": [
    "## Generate Cities List"
   ]
  },
  {
   "cell_type": "code",
   "execution_count": 2,
   "metadata": {},
   "outputs": [
    {
     "data": {
      "text/plain": [
       "595"
      ]
     },
     "execution_count": 2,
     "metadata": {},
     "output_type": "execute_result"
    }
   ],
   "source": [
    "# List for holding lat_lngs and cities\n",
    "lat_lngs = []\n",
    "cities = []\n",
    "\n",
    "# Create a set of random lat and lng combinations\n",
    "lats = np.random.uniform(lat_range[0], lat_range[1], size=1500)\n",
    "lngs = np.random.uniform(lng_range[0], lng_range[1], size=1500)\n",
    "lat_lngs = zip(lats, lngs)\n",
    "\n",
    "# Identify nearest city for each lat, lng combination\n",
    "for lat_lng in lat_lngs:\n",
    "    city = citipy.nearest_city(lat_lng[0], lat_lng[1]).city_name\n",
    "    \n",
    "    # If the city is unique, then add it to a our cities list\n",
    "    if city not in cities:\n",
    "        cities.append(city)\n",
    "\n",
    "\n",
    "# Print the city count to confirm sufficient count\n",
    "len(cities)\n"
   ]
  },
  {
   "cell_type": "markdown",
   "metadata": {},
   "source": [
    "### Perform API Calls\n",
    "* Perform a weather check on each city using a series of successive API calls.\n",
    "* Include a print log of each city as it'sbeing processed (with the city number and city name).\n"
   ]
  },
  {
   "cell_type": "code",
   "execution_count": 3,
   "metadata": {},
   "outputs": [],
   "source": [
    "url = 'http://api.openweathermap.org/data/2.5/weather?'\n",
    "units = 'imperial'\n",
    "query_url =  f\"{url}appid={api_key}&units={units}&q=\""
   ]
  },
  {
   "cell_type": "code",
   "execution_count": 4,
   "metadata": {},
   "outputs": [
    {
     "name": "stdout",
     "output_type": "stream",
     "text": [
      "Processing City Data\n",
      "------------------------\n",
      "Processing Record 1 of 595 : punta arenas\n",
      "Processing Record 2 of 595 : isangel\n",
      "Processing Record 3 of 595 : kaitangata\n",
      "Processing Record 4 of 595 : mataura\n",
      "Processing Record 5 of 595 : buqayq\n",
      "City record not found, searching for next record..\n",
      "Processing Record 6 of 595 : ilulissat\n",
      "Processing Record 7 of 595 : phan thiet\n",
      "Processing Record 8 of 595 : ribeira grande\n",
      "Processing Record 9 of 595 : atuona\n",
      "Processing Record 10 of 595 : cape town\n",
      "Processing Record 11 of 595 : milkovo\n",
      "Processing Record 12 of 595 : amderma\n",
      "City record not found, searching for next record..\n",
      "Processing Record 13 of 595 : bredasdorp\n",
      "Processing Record 14 of 595 : batesville\n",
      "Processing Record 15 of 595 : rikitea\n",
      "Processing Record 16 of 595 : dikson\n",
      "Processing Record 17 of 595 : sungaipenuh\n",
      "Processing Record 18 of 595 : jamestown\n",
      "Processing Record 19 of 595 : albany\n",
      "Processing Record 20 of 595 : la palma\n",
      "Processing Record 21 of 595 : hilo\n",
      "Processing Record 22 of 595 : tasiilaq\n",
      "Processing Record 23 of 595 : comodoro rivadavia\n",
      "Processing Record 24 of 595 : bambous virieux\n",
      "Processing Record 25 of 595 : manokwari\n",
      "Processing Record 26 of 595 : lolua\n",
      "City record not found, searching for next record..\n",
      "Processing Record 27 of 595 : qaanaaq\n",
      "Processing Record 28 of 595 : lagoa\n",
      "Processing Record 29 of 595 : castro\n",
      "Processing Record 30 of 595 : hami\n",
      "Processing Record 31 of 595 : shchelyayur\n",
      "City record not found, searching for next record..\n",
      "Processing Record 32 of 595 : valparaiso\n",
      "Processing Record 33 of 595 : chokurdakh\n",
      "Processing Record 34 of 595 : puerto ayora\n",
      "Processing Record 35 of 595 : tura\n",
      "Processing Record 36 of 595 : alghero\n",
      "Processing Record 37 of 595 : karratha\n",
      "Processing Record 38 of 595 : labuhan\n",
      "Processing Record 39 of 595 : ushuaia\n",
      "Processing Record 40 of 595 : vaini\n",
      "Processing Record 41 of 595 : avarua\n",
      "Processing Record 42 of 595 : alofi\n",
      "Processing Record 43 of 595 : busselton\n",
      "Processing Record 44 of 595 : yulara\n",
      "Processing Record 45 of 595 : butaritari\n",
      "Processing Record 46 of 595 : kroya\n",
      "Processing Record 47 of 595 : smithers\n",
      "Processing Record 48 of 595 : mys shmidta\n",
      "City record not found, searching for next record..\n",
      "Processing Record 49 of 595 : ormond beach\n",
      "Processing Record 50 of 595 : necochea\n",
      "Processing Record 51 of 595 : bethel\n",
      "Processing Record 52 of 595 : lebu\n",
      "Processing Record 53 of 595 : kapaa\n",
      "Processing Record 54 of 595 : pryazha\n",
      "Processing Record 55 of 595 : methoni\n",
      "Processing Record 56 of 595 : rovenki\n",
      "Processing Record 57 of 595 : grand river south east\n",
      "City record not found, searching for next record..\n",
      "Processing Record 58 of 595 : honiara\n",
      "Processing Record 59 of 595 : nikolskoye\n",
      "Processing Record 60 of 595 : khatanga\n",
      "Processing Record 61 of 595 : egvekinot\n",
      "Processing Record 62 of 595 : bulungu\n",
      "Processing Record 63 of 595 : kupang\n",
      "Processing Record 64 of 595 : port alfred\n",
      "Processing Record 65 of 595 : saint-philippe\n",
      "Processing Record 66 of 595 : portalegre\n",
      "Processing Record 67 of 595 : orissaare\n",
      "Processing Record 68 of 595 : najran\n",
      "Processing Record 69 of 595 : praia\n",
      "Processing Record 70 of 595 : hambantota\n",
      "Processing Record 71 of 595 : fortuna\n",
      "Processing Record 72 of 595 : komsomolskiy\n",
      "Processing Record 73 of 595 : pevek\n",
      "Processing Record 74 of 595 : cardston\n",
      "Processing Record 75 of 595 : yetholm\n",
      "City record not found, searching for next record..\n",
      "Processing Record 76 of 595 : tuatapere\n",
      "Processing Record 77 of 595 : san vicente\n",
      "Processing Record 78 of 595 : saldanha\n",
      "Processing Record 79 of 595 : barrow\n",
      "Processing Record 80 of 595 : barentsburg\n",
      "City record not found, searching for next record..\n",
      "Processing Record 81 of 595 : buala\n",
      "Processing Record 82 of 595 : konevo\n",
      "Processing Record 83 of 595 : banda aceh\n",
      "Processing Record 84 of 595 : beringovskiy\n",
      "Processing Record 85 of 595 : zhongshu\n",
      "Processing Record 86 of 595 : la ronge\n",
      "Processing Record 87 of 595 : mar del plata\n",
      "Processing Record 88 of 595 : constitucion\n",
      "Processing Record 89 of 595 : kununurra\n",
      "Processing Record 90 of 595 : longyearbyen\n",
      "Processing Record 91 of 595 : hermanus\n",
      "Processing Record 92 of 595 : porto novo\n",
      "Processing Record 93 of 595 : baykit\n",
      "Processing Record 94 of 595 : victoria\n",
      "Processing Record 95 of 595 : georgetown\n",
      "Processing Record 96 of 595 : waddan\n",
      "Processing Record 97 of 595 : lima duarte\n",
      "Processing Record 98 of 595 : kailua\n",
      "Processing Record 99 of 595 : steinbach\n",
      "Processing Record 100 of 595 : dormidontovka\n",
      "Processing Record 101 of 595 : lavumisa\n",
      "Processing Record 102 of 595 : la gaulette\n",
      "City record not found, searching for next record..\n",
      "Processing Record 103 of 595 : tiznit\n",
      "Processing Record 104 of 595 : hobart\n",
      "Processing Record 105 of 595 : shrewsbury\n",
      "Processing Record 106 of 595 : berlevag\n",
      "Processing Record 107 of 595 : pimentel\n",
      "Processing Record 108 of 595 : iskateley\n",
      "Processing Record 109 of 595 : saskylakh\n",
      "Processing Record 110 of 595 : belushya guba\n",
      "City record not found, searching for next record..\n",
      "Processing Record 111 of 595 : jadu\n",
      "Processing Record 112 of 595 : soc trang\n",
      "Processing Record 113 of 595 : bolungarvik\n",
      "City record not found, searching for next record..\n",
      "Processing Record 114 of 595 : hedaru\n",
      "Processing Record 115 of 595 : saint george\n",
      "Processing Record 116 of 595 : adiake\n",
      "Processing Record 117 of 595 : exeter\n",
      "Processing Record 118 of 595 : bluff\n",
      "Processing Record 119 of 595 : xiangfan\n",
      "Processing Record 120 of 595 : torbay\n",
      "Processing Record 121 of 595 : taolanaro\n",
      "City record not found, searching for next record..\n",
      "Processing Record 122 of 595 : ulu-telyak\n",
      "Processing Record 123 of 595 : mineral wells\n",
      "Processing Record 124 of 595 : upernavik\n",
      "Processing Record 125 of 595 : airai\n",
      "Processing Record 126 of 595 : hamilton\n",
      "Processing Record 127 of 595 : new norfolk\n",
      "Processing Record 128 of 595 : cabo san lucas\n",
      "Processing Record 129 of 595 : carnarvon\n",
      "Processing Record 130 of 595 : ust-kishert\n",
      "Processing Record 131 of 595 : vao\n",
      "Processing Record 132 of 595 : prescott\n",
      "Processing Record 133 of 595 : codrington\n",
      "Processing Record 134 of 595 : tabou\n",
      "Processing Record 135 of 595 : xianshuigu\n",
      "Processing Record 136 of 595 : waipawa\n",
      "Processing Record 137 of 595 : koslan\n",
      "Processing Record 138 of 595 : lavrentiya\n",
      "Processing Record 139 of 595 : zavetnoye\n",
      "Processing Record 140 of 595 : cuiluan\n",
      "Processing Record 141 of 595 : rudbar\n",
      "Processing Record 142 of 595 : quatis\n",
      "Processing Record 143 of 595 : vaitupu\n",
      "City record not found, searching for next record..\n",
      "Processing Record 144 of 595 : kontagora\n",
      "Processing Record 145 of 595 : juegang\n",
      "Processing Record 146 of 595 : lakheri\n",
      "Processing Record 147 of 595 : beaverlodge\n",
      "Processing Record 148 of 595 : miri\n",
      "Processing Record 149 of 595 : manggar\n",
      "Processing Record 150 of 595 : ust-tarka\n",
      "Processing Record 151 of 595 : mount isa\n",
      "Processing Record 152 of 595 : bengkulu\n",
      "Processing Record 153 of 595 : orsha\n",
      "Processing Record 154 of 595 : gamba\n",
      "Processing Record 155 of 595 : tsihombe\n",
      "City record not found, searching for next record..\n",
      "Processing Record 156 of 595 : ngunguru\n",
      "Processing Record 157 of 595 : jieshi\n",
      "Processing Record 158 of 595 : talaya\n",
      "Processing Record 159 of 595 : korla\n",
      "Processing Record 160 of 595 : thompson\n",
      "Processing Record 161 of 595 : coihaique\n",
      "Processing Record 162 of 595 : diffa\n",
      "Processing Record 163 of 595 : manaure\n",
      "Processing Record 164 of 595 : norman wells\n",
      "Processing Record 165 of 595 : bumbuna\n",
      "Processing Record 166 of 595 : huarmey\n",
      "Processing Record 167 of 595 : ozinki\n",
      "Processing Record 168 of 595 : zamora\n",
      "Processing Record 169 of 595 : umzimvubu\n",
      "City record not found, searching for next record..\n",
      "Processing Record 170 of 595 : mahebourg\n",
      "Processing Record 171 of 595 : bathurst\n",
      "Processing Record 172 of 595 : bend\n",
      "Processing Record 173 of 595 : ulagan\n",
      "Processing Record 174 of 595 : kropotkin\n",
      "Processing Record 175 of 595 : khasan\n",
      "Processing Record 176 of 595 : touros\n",
      "Processing Record 177 of 595 : nhulunbuy\n",
      "Processing Record 178 of 595 : hrubieszow\n",
      "Processing Record 179 of 595 : richards bay\n",
      "Processing Record 180 of 595 : souillac\n",
      "Processing Record 181 of 595 : sao filipe\n",
      "Processing Record 182 of 595 : saint-pierre\n",
      "Processing Record 183 of 595 : asau\n",
      "Processing Record 184 of 595 : colac\n",
      "Processing Record 185 of 595 : viedma\n",
      "Processing Record 186 of 595 : san carlos de bariloche\n",
      "Processing Record 187 of 595 : santo antonio do sudoeste\n"
     ]
    },
    {
     "name": "stdout",
     "output_type": "stream",
     "text": [
      "Processing Record 188 of 595 : khanpur\n",
      "Processing Record 189 of 595 : biltine\n",
      "Processing Record 190 of 595 : mehamn\n",
      "Processing Record 191 of 595 : tra vinh\n",
      "Processing Record 192 of 595 : yerbogachen\n",
      "Processing Record 193 of 595 : biloela\n",
      "Processing Record 194 of 595 : galle\n",
      "Processing Record 195 of 595 : tiksi\n",
      "Processing Record 196 of 595 : doctor arroyo\n",
      "Processing Record 197 of 595 : ponta do sol\n",
      "Processing Record 198 of 595 : paka\n",
      "Processing Record 199 of 595 : cidreira\n",
      "Processing Record 200 of 595 : sesheke\n",
      "Processing Record 201 of 595 : beyneu\n",
      "Processing Record 202 of 595 : kruisfontein\n",
      "Processing Record 203 of 595 : merke\n",
      "Processing Record 204 of 595 : marrakesh\n",
      "Processing Record 205 of 595 : guerrero negro\n",
      "Processing Record 206 of 595 : zemio\n",
      "Processing Record 207 of 595 : hofn\n",
      "Processing Record 208 of 595 : berbera\n",
      "Processing Record 209 of 595 : tigil\n",
      "Processing Record 210 of 595 : naze\n",
      "Processing Record 211 of 595 : teberda\n",
      "Processing Record 212 of 595 : kargil\n",
      "Processing Record 213 of 595 : lorengau\n",
      "Processing Record 214 of 595 : kavaratti\n",
      "Processing Record 215 of 595 : beira\n",
      "Processing Record 216 of 595 : soma\n",
      "Processing Record 217 of 595 : bokspits\n",
      "City record not found, searching for next record..\n",
      "Processing Record 218 of 595 : okha\n",
      "Processing Record 219 of 595 : omboue\n",
      "Processing Record 220 of 595 : east london\n",
      "Processing Record 221 of 595 : tuktoyaktuk\n",
      "Processing Record 222 of 595 : provideniya\n",
      "Processing Record 223 of 595 : wenling\n",
      "Processing Record 224 of 595 : shitanjing\n",
      "Processing Record 225 of 595 : trofors\n",
      "Processing Record 226 of 595 : novomichurinsk\n",
      "Processing Record 227 of 595 : coquimbo\n",
      "Processing Record 228 of 595 : valdivia\n",
      "Processing Record 229 of 595 : vancouver\n",
      "Processing Record 230 of 595 : kidal\n",
      "Processing Record 231 of 595 : dingle\n",
      "Processing Record 232 of 595 : mount gambier\n",
      "Processing Record 233 of 595 : general higinio morinigo\n",
      "Processing Record 234 of 595 : mozarlandia\n",
      "Processing Record 235 of 595 : miles city\n",
      "Processing Record 236 of 595 : englehart\n",
      "Processing Record 237 of 595 : saint-augustin\n",
      "Processing Record 238 of 595 : huanren\n",
      "Processing Record 239 of 595 : tornio\n",
      "Processing Record 240 of 595 : sentyabrskiy\n",
      "City record not found, searching for next record..\n",
      "Processing Record 241 of 595 : henties bay\n",
      "Processing Record 242 of 595 : sao joao da barra\n",
      "Processing Record 243 of 595 : san quintin\n",
      "Processing Record 244 of 595 : belaya gora\n",
      "Processing Record 245 of 595 : bandarbeyla\n",
      "Processing Record 246 of 595 : yellowknife\n",
      "Processing Record 247 of 595 : boo\n",
      "Processing Record 248 of 595 : vostok\n",
      "Processing Record 249 of 595 : grantham\n",
      "Processing Record 250 of 595 : kuruman\n",
      "Processing Record 251 of 595 : portland\n",
      "Processing Record 252 of 595 : arraial do cabo\n",
      "Processing Record 253 of 595 : goderich\n",
      "Processing Record 254 of 595 : batagay\n",
      "Processing Record 255 of 595 : kodiak\n",
      "Processing Record 256 of 595 : lazaro cardenas\n",
      "Processing Record 257 of 595 : karasuk\n",
      "Processing Record 258 of 595 : wattegama\n",
      "Processing Record 259 of 595 : port hardy\n",
      "Processing Record 260 of 595 : okandja\n",
      "City record not found, searching for next record..\n",
      "Processing Record 261 of 595 : zyryanovsk\n",
      "Processing Record 262 of 595 : balimo\n",
      "City record not found, searching for next record..\n",
      "Processing Record 263 of 595 : hervey bay\n",
      "Processing Record 264 of 595 : shiloh\n",
      "Processing Record 265 of 595 : katsuura\n",
      "Processing Record 266 of 595 : lanzhou\n",
      "Processing Record 267 of 595 : sheltozero\n",
      "Processing Record 268 of 595 : eureka\n",
      "Processing Record 269 of 595 : vila velha\n",
      "Processing Record 270 of 595 : port elizabeth\n",
      "Processing Record 271 of 595 : ambam\n",
      "Processing Record 272 of 595 : kutum\n",
      "Processing Record 273 of 595 : aklavik\n",
      "Processing Record 274 of 595 : salalah\n",
      "Processing Record 275 of 595 : illoqqortoormiut\n",
      "City record not found, searching for next record..\n",
      "Processing Record 276 of 595 : santa cruz cabralia\n",
      "Processing Record 277 of 595 : lensk\n",
      "Processing Record 278 of 595 : carutapera\n",
      "Processing Record 279 of 595 : macas\n",
      "Processing Record 280 of 595 : birao\n",
      "Processing Record 281 of 595 : san isidro\n",
      "Processing Record 282 of 595 : semirom\n",
      "Processing Record 283 of 595 : atambua\n",
      "Processing Record 284 of 595 : chagda\n",
      "City record not found, searching for next record..\n",
      "Processing Record 285 of 595 : nishihara\n",
      "Processing Record 286 of 595 : nguiu\n",
      "City record not found, searching for next record..\n",
      "Processing Record 287 of 595 : inta\n",
      "Processing Record 288 of 595 : hasaki\n",
      "Processing Record 289 of 595 : haibowan\n",
      "City record not found, searching for next record..\n",
      "Processing Record 290 of 595 : sillod\n",
      "Processing Record 291 of 595 : attawapiskat\n",
      "City record not found, searching for next record..\n",
      "Processing Record 292 of 595 : ahipara\n",
      "Processing Record 293 of 595 : maniitsoq\n",
      "Processing Record 294 of 595 : lahaina\n",
      "Processing Record 295 of 595 : lancaster\n",
      "Processing Record 296 of 595 : siavonga\n",
      "Processing Record 297 of 595 : nizhneyansk\n",
      "City record not found, searching for next record..\n",
      "Processing Record 298 of 595 : adrar\n",
      "Processing Record 299 of 595 : itarema\n",
      "Processing Record 300 of 595 : dwarka\n",
      "Processing Record 301 of 595 : liverpool\n",
      "Processing Record 302 of 595 : salacgriva\n",
      "Processing Record 303 of 595 : vila franca do campo\n",
      "Processing Record 304 of 595 : cherskiy\n",
      "Processing Record 305 of 595 : paracatu\n",
      "Processing Record 306 of 595 : oudtshoorn\n",
      "Processing Record 307 of 595 : manasa\n",
      "Processing Record 308 of 595 : jacksonville\n",
      "Processing Record 309 of 595 : esperance\n",
      "Processing Record 310 of 595 : port lincoln\n",
      "Processing Record 311 of 595 : faanui\n",
      "Processing Record 312 of 595 : lufilufi\n",
      "Processing Record 313 of 595 : bathsheba\n",
      "Processing Record 314 of 595 : kiunga\n",
      "Processing Record 315 of 595 : dongzhen\n",
      "Processing Record 316 of 595 : saint-michel-des-saints\n",
      "Processing Record 317 of 595 : teya\n",
      "Processing Record 318 of 595 : achisay\n",
      "City record not found, searching for next record..\n",
      "Processing Record 319 of 595 : katakwi\n",
      "Processing Record 320 of 595 : churapcha\n",
      "Processing Record 321 of 595 : dongning\n",
      "Processing Record 322 of 595 : hithadhoo\n",
      "Processing Record 323 of 595 : aporawan\n",
      "City record not found, searching for next record..\n",
      "Processing Record 324 of 595 : namatanai\n",
      "Processing Record 325 of 595 : hof\n",
      "Processing Record 326 of 595 : krasnokamsk\n",
      "Processing Record 327 of 595 : saleaula\n",
      "City record not found, searching for next record..\n",
      "Processing Record 328 of 595 : andenes\n",
      "Processing Record 329 of 595 : kamenka\n",
      "Processing Record 330 of 595 : pochutla\n",
      "Processing Record 331 of 595 : lokhvytsya\n",
      "Processing Record 332 of 595 : aljezur\n",
      "Processing Record 333 of 595 : porto santo\n",
      "Processing Record 334 of 595 : klaksvik\n",
      "Processing Record 335 of 595 : quechultenango\n",
      "Processing Record 336 of 595 : zhengjiatun\n",
      "Processing Record 337 of 595 : nome\n",
      "Processing Record 338 of 595 : marystown\n",
      "Processing Record 339 of 595 : port hawkesbury\n",
      "Processing Record 340 of 595 : keti bandar\n",
      "Processing Record 341 of 595 : sitka\n",
      "Processing Record 342 of 595 : bull savanna\n",
      "Processing Record 343 of 595 : marawi\n",
      "Processing Record 344 of 595 : nanortalik\n",
      "Processing Record 345 of 595 : thinadhoo\n",
      "Processing Record 346 of 595 : meulaboh\n",
      "Processing Record 347 of 595 : asosa\n",
      "Processing Record 348 of 595 : ikwiriri\n",
      "Processing Record 349 of 595 : greymouth\n",
      "Processing Record 350 of 595 : namibe\n",
      "Processing Record 351 of 595 : khonuu\n",
      "City record not found, searching for next record..\n",
      "Processing Record 352 of 595 : olafsvik\n",
      "Processing Record 353 of 595 : marcona\n",
      "City record not found, searching for next record..\n",
      "Processing Record 354 of 595 : vestmanna\n",
      "Processing Record 355 of 595 : luderitz\n",
      "Processing Record 356 of 595 : pangnirtung\n",
      "Processing Record 357 of 595 : puerto baquerizo moreno\n",
      "Processing Record 358 of 595 : darhan\n",
      "Processing Record 359 of 595 : iqaluit\n",
      "Processing Record 360 of 595 : alihe\n",
      "Processing Record 361 of 595 : piacabucu\n",
      "Processing Record 362 of 595 : teguldet\n",
      "Processing Record 363 of 595 : mendahara\n",
      "City record not found, searching for next record..\n",
      "Processing Record 364 of 595 : kahului\n",
      "Processing Record 365 of 595 : sredniy ikorets\n",
      "Processing Record 366 of 595 : veydelevka\n",
      "Processing Record 367 of 595 : zhigansk\n",
      "Processing Record 368 of 595 : kulhudhuffushi\n",
      "Processing Record 369 of 595 : ginda\n",
      "Processing Record 370 of 595 : petrvald\n"
     ]
    },
    {
     "name": "stdout",
     "output_type": "stream",
     "text": [
      "Processing Record 371 of 595 : ouadda\n",
      "Processing Record 372 of 595 : lompoc\n",
      "Processing Record 373 of 595 : clinton\n",
      "Processing Record 374 of 595 : marsa matruh\n",
      "Processing Record 375 of 595 : dalaba\n",
      "Processing Record 376 of 595 : teahupoo\n",
      "Processing Record 377 of 595 : laguna\n",
      "Processing Record 378 of 595 : strezhevoy\n",
      "Processing Record 379 of 595 : makakilo city\n",
      "Processing Record 380 of 595 : ponta pora\n",
      "Processing Record 381 of 595 : mwene-ditu\n",
      "Processing Record 382 of 595 : ewa beach\n",
      "Processing Record 383 of 595 : santa elena\n",
      "Processing Record 384 of 595 : goryachiy klyuch\n",
      "Processing Record 385 of 595 : novo aripuana\n",
      "Processing Record 386 of 595 : porto de moz\n",
      "Processing Record 387 of 595 : mersing\n",
      "Processing Record 388 of 595 : anadyr\n",
      "Processing Record 389 of 595 : peskovka\n",
      "Processing Record 390 of 595 : caravelas\n",
      "Processing Record 391 of 595 : kargasok\n",
      "Processing Record 392 of 595 : gunjur\n",
      "Processing Record 393 of 595 : puerto maldonado\n",
      "Processing Record 394 of 595 : dali\n",
      "Processing Record 395 of 595 : aden\n",
      "Processing Record 396 of 595 : kavieng\n",
      "Processing Record 397 of 595 : qabis\n",
      "City record not found, searching for next record..\n",
      "Processing Record 398 of 595 : half moon bay\n",
      "Processing Record 399 of 595 : pampierstad\n",
      "Processing Record 400 of 595 : zhongxing\n",
      "Processing Record 401 of 595 : port keats\n",
      "Processing Record 402 of 595 : turukhansk\n",
      "Processing Record 403 of 595 : amarante\n",
      "Processing Record 404 of 595 : agde\n",
      "Processing Record 405 of 595 : moussoro\n",
      "Processing Record 406 of 595 : minna\n",
      "Processing Record 407 of 595 : ugu\n",
      "Processing Record 408 of 595 : leningradskiy\n",
      "Processing Record 409 of 595 : ust-tsilma\n",
      "Processing Record 410 of 595 : surab\n",
      "Processing Record 411 of 595 : oromocto\n",
      "Processing Record 412 of 595 : quatre cocos\n",
      "Processing Record 413 of 595 : jabiru\n",
      "City record not found, searching for next record..\n",
      "Processing Record 414 of 595 : knysna\n",
      "Processing Record 415 of 595 : erdenet\n",
      "Processing Record 416 of 595 : aksu\n",
      "Processing Record 417 of 595 : la romana\n",
      "Processing Record 418 of 595 : grindavik\n",
      "Processing Record 419 of 595 : tumannyy\n",
      "City record not found, searching for next record..\n",
      "Processing Record 420 of 595 : lata\n",
      "Processing Record 421 of 595 : kisangani\n",
      "Processing Record 422 of 595 : trapani\n",
      "Processing Record 423 of 595 : san ramon\n",
      "Processing Record 424 of 595 : chuy\n",
      "Processing Record 425 of 595 : alice springs\n",
      "Processing Record 426 of 595 : cadiz\n",
      "Processing Record 427 of 595 : tilichiki\n",
      "Processing Record 428 of 595 : pontes e lacerda\n",
      "Processing Record 429 of 595 : tsabong\n",
      "Processing Record 430 of 595 : nisia floresta\n",
      "Processing Record 431 of 595 : babanusah\n",
      "City record not found, searching for next record..\n",
      "Processing Record 432 of 595 : pangkalanbuun\n",
      "Processing Record 433 of 595 : opuwo\n",
      "Processing Record 434 of 595 : woodward\n",
      "Processing Record 435 of 595 : keskin\n",
      "Processing Record 436 of 595 : mayo\n",
      "Processing Record 437 of 595 : toccoa\n",
      "Processing Record 438 of 595 : bayanday\n",
      "Processing Record 439 of 595 : murovani kurylivtsi\n",
      "Processing Record 440 of 595 : adre\n",
      "Processing Record 441 of 595 : taoudenni\n",
      "Processing Record 442 of 595 : karabash\n",
      "Processing Record 443 of 595 : netarhat\n",
      "Processing Record 444 of 595 : darnah\n",
      "Processing Record 445 of 595 : novato\n",
      "Processing Record 446 of 595 : katherine\n",
      "Processing Record 447 of 595 : chemal\n",
      "Processing Record 448 of 595 : salinopolis\n",
      "Processing Record 449 of 595 : cody\n",
      "Processing Record 450 of 595 : cockburn town\n",
      "Processing Record 451 of 595 : gat\n",
      "Processing Record 452 of 595 : bubaque\n",
      "Processing Record 453 of 595 : namwala\n",
      "Processing Record 454 of 595 : grand-santi\n",
      "Processing Record 455 of 595 : kingaroy\n",
      "Processing Record 456 of 595 : nalut\n",
      "Processing Record 457 of 595 : sitrah\n",
      "Processing Record 458 of 595 : monrovia\n",
      "Processing Record 459 of 595 : falealupo\n",
      "City record not found, searching for next record..\n",
      "Processing Record 460 of 595 : tahta\n",
      "Processing Record 461 of 595 : dzaoudzi\n",
      "Processing Record 462 of 595 : priyutovo\n",
      "Processing Record 463 of 595 : mbabane\n",
      "Processing Record 464 of 595 : carbonia\n",
      "Processing Record 465 of 595 : clyde river\n",
      "Processing Record 466 of 595 : san patricio\n",
      "Processing Record 467 of 595 : missoula\n",
      "Processing Record 468 of 595 : misratah\n",
      "Processing Record 469 of 595 : gimli\n",
      "Processing Record 470 of 595 : vardo\n",
      "Processing Record 471 of 595 : datong\n",
      "Processing Record 472 of 595 : erzin\n",
      "Processing Record 473 of 595 : lumphat\n",
      "Processing Record 474 of 595 : mantua\n",
      "Processing Record 475 of 595 : murbad\n",
      "Processing Record 476 of 595 : haines junction\n",
      "Processing Record 477 of 595 : batagay-alyta\n",
      "Processing Record 478 of 595 : hatillo\n",
      "Processing Record 479 of 595 : adeje\n",
      "Processing Record 480 of 595 : anloga\n",
      "Processing Record 481 of 595 : salamiyah\n",
      "Processing Record 482 of 595 : rio tuba\n",
      "Processing Record 483 of 595 : prerov\n",
      "Processing Record 484 of 595 : belyy yar\n",
      "Processing Record 485 of 595 : samusu\n",
      "City record not found, searching for next record..\n",
      "Processing Record 486 of 595 : north platte\n",
      "Processing Record 487 of 595 : longford\n",
      "Processing Record 488 of 595 : sumbawa\n",
      "City record not found, searching for next record..\n",
      "Processing Record 489 of 595 : talnakh\n",
      "Processing Record 490 of 595 : escanaba\n",
      "Processing Record 491 of 595 : leh\n",
      "Processing Record 492 of 595 : pecos\n",
      "Processing Record 493 of 595 : launceston\n",
      "Processing Record 494 of 595 : arlit\n",
      "Processing Record 495 of 595 : amatan\n",
      "Processing Record 496 of 595 : severo-kurilsk\n",
      "Processing Record 497 of 595 : klyuchi\n",
      "Processing Record 498 of 595 : one hundred mile house\n",
      "City record not found, searching for next record..\n",
      "Processing Record 499 of 595 : port hedland\n",
      "Processing Record 500 of 595 : bulgan\n",
      "Processing Record 501 of 595 : muros\n",
      "Processing Record 502 of 595 : ugoofaaru\n",
      "Processing Record 503 of 595 : isehara\n",
      "Processing Record 504 of 595 : sataua\n",
      "City record not found, searching for next record..\n",
      "Processing Record 505 of 595 : wanning\n",
      "Processing Record 506 of 595 : aketi\n",
      "Processing Record 507 of 595 : ahuimanu\n",
      "Processing Record 508 of 595 : watertown\n",
      "Processing Record 509 of 595 : dawlatabad\n",
      "Processing Record 510 of 595 : palabuhanratu\n",
      "City record not found, searching for next record..\n",
      "Processing Record 511 of 595 : tomatlan\n",
      "Processing Record 512 of 595 : sakakah\n",
      "Processing Record 513 of 595 : katsina\n",
      "Processing Record 514 of 595 : ostrovnoy\n",
      "Processing Record 515 of 595 : asamankese\n",
      "Processing Record 516 of 595 : houma\n",
      "Processing Record 517 of 595 : havoysund\n",
      "Processing Record 518 of 595 : gwanda\n",
      "Processing Record 519 of 595 : los llanos de aridane\n",
      "Processing Record 520 of 595 : alim\n",
      "Processing Record 521 of 595 : okhotsk\n",
      "Processing Record 522 of 595 : burns lake\n",
      "Processing Record 523 of 595 : road town\n",
      "Processing Record 524 of 595 : scottsburgh\n",
      "City record not found, searching for next record..\n",
      "Processing Record 525 of 595 : pacific grove\n",
      "Processing Record 526 of 595 : ucluelet\n",
      "Processing Record 527 of 595 : bairnsdale\n",
      "Processing Record 528 of 595 : wang saphung\n",
      "Processing Record 529 of 595 : glubokoe\n",
      "City record not found, searching for next record..\n",
      "Processing Record 530 of 595 : bilibino\n",
      "Processing Record 531 of 595 : shingu\n",
      "Processing Record 532 of 595 : seoul\n",
      "Processing Record 533 of 595 : mokhsogollokh\n",
      "Processing Record 534 of 595 : westport\n",
      "Processing Record 535 of 595 : mentok\n",
      "City record not found, searching for next record..\n",
      "Processing Record 536 of 595 : gladstone\n",
      "Processing Record 537 of 595 : talcahuano\n",
      "Processing Record 538 of 595 : labelle\n",
      "Processing Record 539 of 595 : riohacha\n",
      "Processing Record 540 of 595 : ejura\n",
      "Processing Record 541 of 595 : lhuntshi\n",
      "City record not found, searching for next record..\n",
      "Processing Record 542 of 595 : surt\n",
      "Processing Record 543 of 595 : sawtell\n",
      "Processing Record 544 of 595 : jalu\n",
      "Processing Record 545 of 595 : zarubino\n",
      "Processing Record 546 of 595 : parnu\n",
      "Processing Record 547 of 595 : polson\n",
      "Processing Record 548 of 595 : mulege\n",
      "Processing Record 549 of 595 : kyenjojo\n",
      "Processing Record 550 of 595 : jolo\n",
      "Processing Record 551 of 595 : benguela\n",
      "Processing Record 552 of 595 : cockburn harbour\n",
      "City record not found, searching for next record..\n",
      "Processing Record 553 of 595 : lakefield\n",
      "Processing Record 554 of 595 : port blair\n",
      "Processing Record 555 of 595 : emerald\n"
     ]
    },
    {
     "name": "stdout",
     "output_type": "stream",
     "text": [
      "Processing Record 556 of 595 : salym\n",
      "Processing Record 557 of 595 : torrijos\n",
      "Processing Record 558 of 595 : galveston\n",
      "Processing Record 559 of 595 : mogok\n",
      "Processing Record 560 of 595 : miyako\n",
      "Processing Record 561 of 595 : saint-louis\n",
      "Processing Record 562 of 595 : ulladulla\n",
      "Processing Record 563 of 595 : sergeyevka\n",
      "Processing Record 564 of 595 : maridi\n",
      "Processing Record 565 of 595 : golden\n",
      "Processing Record 566 of 595 : hobyo\n",
      "Processing Record 567 of 595 : caen\n",
      "Processing Record 568 of 595 : monte alegre\n",
      "Processing Record 569 of 595 : saryshagan\n",
      "City record not found, searching for next record..\n",
      "Processing Record 570 of 595 : anderson\n",
      "Processing Record 571 of 595 : omsukchan\n",
      "Processing Record 572 of 595 : lamu\n",
      "Processing Record 573 of 595 : polunochnoye\n",
      "Processing Record 574 of 595 : channel-port aux basques\n",
      "Processing Record 575 of 595 : vila\n",
      "Processing Record 576 of 595 : ostersund\n",
      "Processing Record 577 of 595 : archdale\n",
      "Processing Record 578 of 595 : plainview\n",
      "Processing Record 579 of 595 : do gonbadan\n",
      "Processing Record 580 of 595 : praia da vitoria\n",
      "Processing Record 581 of 595 : druzhba\n",
      "Processing Record 582 of 595 : kawalu\n",
      "Processing Record 583 of 595 : college\n",
      "Processing Record 584 of 595 : malard\n",
      "Processing Record 585 of 595 : ust-ishim\n",
      "Processing Record 586 of 595 : flin flon\n",
      "Processing Record 587 of 595 : kodinsk\n",
      "Processing Record 588 of 595 : fairbanks\n",
      "Processing Record 589 of 595 : dharchula\n",
      "Processing Record 590 of 595 : coxim\n",
      "Processing Record 591 of 595 : iralaya\n",
      "Processing Record 592 of 595 : sozimskiy\n",
      "Processing Record 593 of 595 : porbandar\n",
      "Processing Record 594 of 595 : tautira\n",
      "Processing Record 595 of 595 : margate\n"
     ]
    }
   ],
   "source": [
    "#Perform a weather check on each city using a series of successive API calls.\n",
    "#Set up lists to hold response info\n",
    "city_number=[]\n",
    "city_name=[]\n",
    "city_country=[]\n",
    "date=[]\n",
    "temperature=[]\n",
    "max_temp=[]\n",
    "humidity=[]\n",
    "cloudiness=[]\n",
    "wind_speed=[]\n",
    "lat=[]\n",
    "lon=[]\n",
    "\n",
    "#Set starter count, Loop through cities to check weather in each city, then print City & City ID\n",
    "count=1 \n",
    "print('Processing City Data')\n",
    "print('------------------------')\n",
    "for city in cities:\n",
    "    response = requests.get(query_url + city).json()\n",
    "   #Include a print log of each city as it'sbeing processed (with the city number and city name). \n",
    "    print('Processing Record ' + str(count) + ' of ' + str(len(cities))+ ' : ' + city)\n",
    "    \n",
    "    try:\n",
    "        city_number.append(response['id'])\n",
    "        city_name.append(response['name'])\n",
    "        city_country.append(response['sys']['country'])\n",
    "        temperature.append(response['main']['temp'])\n",
    "        max_temp.append(response['main']['temp_max'])\n",
    "        humidity.append(response['main']['humidity'])\n",
    "        cloudiness.append(response['clouds']['all'])\n",
    "        wind_speed.append(response['wind']['speed'])\n",
    "        lat.append(response['coord']['lat'])\n",
    "        lon.append(response['coord']['lon'])\n",
    "        date.append(response['dt'])\n",
    "        \n",
    "    except:\n",
    "        print(f\"City record not found, searching for next record..\")\n",
    "        \n",
    "    count=count+1"
   ]
  },
  {
   "cell_type": "markdown",
   "metadata": {},
   "source": [
    "### Convert Raw Data to DataFrame\n",
    "* Export the city data into a .csv.\n",
    "* Display the DataFrame"
   ]
  },
  {
   "cell_type": "code",
   "execution_count": 5,
   "metadata": {},
   "outputs": [
    {
     "data": {
      "text/html": [
       "<div>\n",
       "<style scoped>\n",
       "    .dataframe tbody tr th:only-of-type {\n",
       "        vertical-align: middle;\n",
       "    }\n",
       "\n",
       "    .dataframe tbody tr th {\n",
       "        vertical-align: top;\n",
       "    }\n",
       "\n",
       "    .dataframe thead th {\n",
       "        text-align: right;\n",
       "    }\n",
       "</style>\n",
       "<table border=\"1\" class=\"dataframe\">\n",
       "  <thead>\n",
       "    <tr style=\"text-align: right;\">\n",
       "      <th></th>\n",
       "      <th>City</th>\n",
       "      <th>Country</th>\n",
       "      <th>Temperature</th>\n",
       "      <th>Max Temp</th>\n",
       "      <th>Humidity</th>\n",
       "      <th>Cloudiness</th>\n",
       "      <th>Wind Speed</th>\n",
       "      <th>Latitude</th>\n",
       "      <th>Longitude</th>\n",
       "    </tr>\n",
       "  </thead>\n",
       "  <tbody>\n",
       "    <tr>\n",
       "      <th>0</th>\n",
       "      <td>Punta Arenas</td>\n",
       "      <td>CL</td>\n",
       "      <td>62.29</td>\n",
       "      <td>62.60</td>\n",
       "      <td>63</td>\n",
       "      <td>0</td>\n",
       "      <td>2.30</td>\n",
       "      <td>-53.1500</td>\n",
       "      <td>-70.9167</td>\n",
       "    </tr>\n",
       "    <tr>\n",
       "      <th>1</th>\n",
       "      <td>Isangel</td>\n",
       "      <td>VU</td>\n",
       "      <td>84.20</td>\n",
       "      <td>84.20</td>\n",
       "      <td>74</td>\n",
       "      <td>75</td>\n",
       "      <td>9.22</td>\n",
       "      <td>-19.5500</td>\n",
       "      <td>169.2667</td>\n",
       "    </tr>\n",
       "    <tr>\n",
       "      <th>2</th>\n",
       "      <td>Kaitangata</td>\n",
       "      <td>NZ</td>\n",
       "      <td>57.00</td>\n",
       "      <td>57.00</td>\n",
       "      <td>90</td>\n",
       "      <td>100</td>\n",
       "      <td>4.00</td>\n",
       "      <td>-46.2817</td>\n",
       "      <td>169.8464</td>\n",
       "    </tr>\n",
       "    <tr>\n",
       "      <th>3</th>\n",
       "      <td>Mataura</td>\n",
       "      <td>NZ</td>\n",
       "      <td>59.20</td>\n",
       "      <td>59.20</td>\n",
       "      <td>65</td>\n",
       "      <td>100</td>\n",
       "      <td>9.31</td>\n",
       "      <td>-46.1927</td>\n",
       "      <td>168.8643</td>\n",
       "    </tr>\n",
       "    <tr>\n",
       "      <th>4</th>\n",
       "      <td>Ilulissat</td>\n",
       "      <td>GL</td>\n",
       "      <td>17.60</td>\n",
       "      <td>17.60</td>\n",
       "      <td>45</td>\n",
       "      <td>0</td>\n",
       "      <td>12.66</td>\n",
       "      <td>69.2167</td>\n",
       "      <td>-51.1000</td>\n",
       "    </tr>\n",
       "    <tr>\n",
       "      <th>...</th>\n",
       "      <td>...</td>\n",
       "      <td>...</td>\n",
       "      <td>...</td>\n",
       "      <td>...</td>\n",
       "      <td>...</td>\n",
       "      <td>...</td>\n",
       "      <td>...</td>\n",
       "      <td>...</td>\n",
       "      <td>...</td>\n",
       "    </tr>\n",
       "    <tr>\n",
       "      <th>543</th>\n",
       "      <td>Iralaya</td>\n",
       "      <td>HN</td>\n",
       "      <td>76.96</td>\n",
       "      <td>76.96</td>\n",
       "      <td>80</td>\n",
       "      <td>1</td>\n",
       "      <td>9.80</td>\n",
       "      <td>15.0000</td>\n",
       "      <td>-83.2333</td>\n",
       "    </tr>\n",
       "    <tr>\n",
       "      <th>544</th>\n",
       "      <td>Sozimskiy</td>\n",
       "      <td>RU</td>\n",
       "      <td>-23.57</td>\n",
       "      <td>-23.57</td>\n",
       "      <td>86</td>\n",
       "      <td>0</td>\n",
       "      <td>3.74</td>\n",
       "      <td>59.7418</td>\n",
       "      <td>52.2482</td>\n",
       "    </tr>\n",
       "    <tr>\n",
       "      <th>545</th>\n",
       "      <td>Porbandar</td>\n",
       "      <td>IN</td>\n",
       "      <td>55.40</td>\n",
       "      <td>55.40</td>\n",
       "      <td>82</td>\n",
       "      <td>20</td>\n",
       "      <td>3.44</td>\n",
       "      <td>21.6422</td>\n",
       "      <td>69.6093</td>\n",
       "    </tr>\n",
       "    <tr>\n",
       "      <th>546</th>\n",
       "      <td>Tautira</td>\n",
       "      <td>PF</td>\n",
       "      <td>84.09</td>\n",
       "      <td>84.20</td>\n",
       "      <td>61</td>\n",
       "      <td>75</td>\n",
       "      <td>14.97</td>\n",
       "      <td>-17.7333</td>\n",
       "      <td>-149.1500</td>\n",
       "    </tr>\n",
       "    <tr>\n",
       "      <th>547</th>\n",
       "      <td>Margate</td>\n",
       "      <td>GB</td>\n",
       "      <td>32.14</td>\n",
       "      <td>33.01</td>\n",
       "      <td>56</td>\n",
       "      <td>100</td>\n",
       "      <td>5.01</td>\n",
       "      <td>51.3813</td>\n",
       "      <td>1.3862</td>\n",
       "    </tr>\n",
       "  </tbody>\n",
       "</table>\n",
       "<p>548 rows × 9 columns</p>\n",
       "</div>"
      ],
      "text/plain": [
       "             City Country  Temperature  Max Temp  Humidity  Cloudiness  \\\n",
       "0    Punta Arenas      CL        62.29     62.60        63           0   \n",
       "1         Isangel      VU        84.20     84.20        74          75   \n",
       "2      Kaitangata      NZ        57.00     57.00        90         100   \n",
       "3         Mataura      NZ        59.20     59.20        65         100   \n",
       "4       Ilulissat      GL        17.60     17.60        45           0   \n",
       "..            ...     ...          ...       ...       ...         ...   \n",
       "543       Iralaya      HN        76.96     76.96        80           1   \n",
       "544     Sozimskiy      RU       -23.57    -23.57        86           0   \n",
       "545     Porbandar      IN        55.40     55.40        82          20   \n",
       "546       Tautira      PF        84.09     84.20        61          75   \n",
       "547       Margate      GB        32.14     33.01        56         100   \n",
       "\n",
       "     Wind Speed  Latitude  Longitude  \n",
       "0          2.30  -53.1500   -70.9167  \n",
       "1          9.22  -19.5500   169.2667  \n",
       "2          4.00  -46.2817   169.8464  \n",
       "3          9.31  -46.1927   168.8643  \n",
       "4         12.66   69.2167   -51.1000  \n",
       "..          ...       ...        ...  \n",
       "543        9.80   15.0000   -83.2333  \n",
       "544        3.74   59.7418    52.2482  \n",
       "545        3.44   21.6422    69.6093  \n",
       "546       14.97  -17.7333  -149.1500  \n",
       "547        5.01   51.3813     1.3862  \n",
       "\n",
       "[548 rows x 9 columns]"
      ]
     },
     "execution_count": 5,
     "metadata": {},
     "output_type": "execute_result"
    }
   ],
   "source": [
    "#Convert to Raw DataFrame\n",
    "\n",
    "weather_df = pd.DataFrame({'City':city_name,\n",
    "                'Country': city_country,\n",
    "                'Temperature': temperature,\n",
    "                'Max Temp': max_temp,\n",
    "                'Humidity': humidity,\n",
    "                'Cloudiness':cloudiness,\n",
    "                'Wind Speed': wind_speed,\n",
    "                'Latitude': lat,\n",
    "                'Longitude':lon})\n",
    "weather_df"
   ]
  },
  {
   "cell_type": "code",
   "execution_count": 6,
   "metadata": {},
   "outputs": [
    {
     "data": {
      "text/plain": [
       "City           548\n",
       "Country        548\n",
       "Temperature    548\n",
       "Max Temp       548\n",
       "Humidity       548\n",
       "Cloudiness     548\n",
       "Wind Speed     548\n",
       "Latitude       548\n",
       "Longitude      548\n",
       "dtype: int64"
      ]
     },
     "execution_count": 6,
     "metadata": {},
     "output_type": "execute_result"
    }
   ],
   "source": [
    "weather_df.count()"
   ]
  },
  {
   "cell_type": "code",
   "execution_count": 7,
   "metadata": {},
   "outputs": [],
   "source": [
    "weather_df.to_csv(\"Output_Results/Weather_Dict.csv\")"
   ]
  },
  {
   "cell_type": "markdown",
   "metadata": {},
   "source": [
    "## Inspect the data and remove the cities where the humidity > 100%.\n",
    "----\n",
    "Skip this step if there are no cities that have humidity > 100%. "
   ]
  },
  {
   "cell_type": "code",
   "execution_count": 8,
   "metadata": {},
   "outputs": [
    {
     "data": {
      "text/html": [
       "<div>\n",
       "<style scoped>\n",
       "    .dataframe tbody tr th:only-of-type {\n",
       "        vertical-align: middle;\n",
       "    }\n",
       "\n",
       "    .dataframe tbody tr th {\n",
       "        vertical-align: top;\n",
       "    }\n",
       "\n",
       "    .dataframe thead th {\n",
       "        text-align: right;\n",
       "    }\n",
       "</style>\n",
       "<table border=\"1\" class=\"dataframe\">\n",
       "  <thead>\n",
       "    <tr style=\"text-align: right;\">\n",
       "      <th></th>\n",
       "      <th>City</th>\n",
       "      <th>Country</th>\n",
       "      <th>Temperature</th>\n",
       "      <th>Max Temp</th>\n",
       "      <th>Humidity</th>\n",
       "      <th>Cloudiness</th>\n",
       "      <th>Wind Speed</th>\n",
       "      <th>Latitude</th>\n",
       "      <th>Longitude</th>\n",
       "    </tr>\n",
       "  </thead>\n",
       "  <tbody>\n",
       "  </tbody>\n",
       "</table>\n",
       "</div>"
      ],
      "text/plain": [
       "Empty DataFrame\n",
       "Columns: [City, Country, Temperature, Max Temp, Humidity, Cloudiness, Wind Speed, Latitude, Longitude]\n",
       "Index: []"
      ]
     },
     "execution_count": 8,
     "metadata": {},
     "output_type": "execute_result"
    }
   ],
   "source": [
    "high_humidity = weather_df.loc[weather_df['Humidity'] > 100,:]\n",
    "high_humidity"
   ]
  },
  {
   "cell_type": "code",
   "execution_count": 9,
   "metadata": {},
   "outputs": [],
   "source": [
    "#  Get the indices of cities that have humidity over 100%.\n"
   ]
  },
  {
   "cell_type": "code",
   "execution_count": 10,
   "metadata": {},
   "outputs": [],
   "source": [
    "# Make a new DataFrame equal to the city data to drop all humidity outliers by index.\n",
    "# Passing \"inplace=False\" will make a copy of the city_data DataFrame, which we call \"clean_city_data\".\n"
   ]
  },
  {
   "cell_type": "markdown",
   "metadata": {},
   "source": [
    "## Plotting the Data\n",
    "* Use proper labeling of the plots using plot titles (including date of analysis) and axes labels.\n",
    "* Save the plotted figures as .pngs."
   ]
  },
  {
   "cell_type": "markdown",
   "metadata": {},
   "source": [
    "## Latitude vs. Temperature Plot"
   ]
  },
  {
   "cell_type": "code",
   "execution_count": 11,
   "metadata": {},
   "outputs": [
    {
     "data": {
      "text/html": [
       "<div>\n",
       "<style scoped>\n",
       "    .dataframe tbody tr th:only-of-type {\n",
       "        vertical-align: middle;\n",
       "    }\n",
       "\n",
       "    .dataframe tbody tr th {\n",
       "        vertical-align: top;\n",
       "    }\n",
       "\n",
       "    .dataframe thead th {\n",
       "        text-align: right;\n",
       "    }\n",
       "</style>\n",
       "<table border=\"1\" class=\"dataframe\">\n",
       "  <thead>\n",
       "    <tr style=\"text-align: right;\">\n",
       "      <th></th>\n",
       "      <th>City</th>\n",
       "      <th>Country</th>\n",
       "      <th>Temperature</th>\n",
       "      <th>Max Temp</th>\n",
       "      <th>Humidity</th>\n",
       "      <th>Cloudiness</th>\n",
       "      <th>Wind Speed</th>\n",
       "      <th>Latitude</th>\n",
       "      <th>Longitude</th>\n",
       "    </tr>\n",
       "  </thead>\n",
       "  <tbody>\n",
       "    <tr>\n",
       "      <th>0</th>\n",
       "      <td>Punta Arenas</td>\n",
       "      <td>CL</td>\n",
       "      <td>62.29</td>\n",
       "      <td>62.6</td>\n",
       "      <td>63</td>\n",
       "      <td>0</td>\n",
       "      <td>2.30</td>\n",
       "      <td>-53.1500</td>\n",
       "      <td>-70.9167</td>\n",
       "    </tr>\n",
       "    <tr>\n",
       "      <th>1</th>\n",
       "      <td>Isangel</td>\n",
       "      <td>VU</td>\n",
       "      <td>84.20</td>\n",
       "      <td>84.2</td>\n",
       "      <td>74</td>\n",
       "      <td>75</td>\n",
       "      <td>9.22</td>\n",
       "      <td>-19.5500</td>\n",
       "      <td>169.2667</td>\n",
       "    </tr>\n",
       "    <tr>\n",
       "      <th>2</th>\n",
       "      <td>Kaitangata</td>\n",
       "      <td>NZ</td>\n",
       "      <td>57.00</td>\n",
       "      <td>57.0</td>\n",
       "      <td>90</td>\n",
       "      <td>100</td>\n",
       "      <td>4.00</td>\n",
       "      <td>-46.2817</td>\n",
       "      <td>169.8464</td>\n",
       "    </tr>\n",
       "    <tr>\n",
       "      <th>3</th>\n",
       "      <td>Mataura</td>\n",
       "      <td>NZ</td>\n",
       "      <td>59.20</td>\n",
       "      <td>59.2</td>\n",
       "      <td>65</td>\n",
       "      <td>100</td>\n",
       "      <td>9.31</td>\n",
       "      <td>-46.1927</td>\n",
       "      <td>168.8643</td>\n",
       "    </tr>\n",
       "    <tr>\n",
       "      <th>4</th>\n",
       "      <td>Ilulissat</td>\n",
       "      <td>GL</td>\n",
       "      <td>17.60</td>\n",
       "      <td>17.6</td>\n",
       "      <td>45</td>\n",
       "      <td>0</td>\n",
       "      <td>12.66</td>\n",
       "      <td>69.2167</td>\n",
       "      <td>-51.1000</td>\n",
       "    </tr>\n",
       "  </tbody>\n",
       "</table>\n",
       "</div>"
      ],
      "text/plain": [
       "           City Country  Temperature  Max Temp  Humidity  Cloudiness  \\\n",
       "0  Punta Arenas      CL        62.29      62.6        63           0   \n",
       "1       Isangel      VU        84.20      84.2        74          75   \n",
       "2    Kaitangata      NZ        57.00      57.0        90         100   \n",
       "3       Mataura      NZ        59.20      59.2        65         100   \n",
       "4     Ilulissat      GL        17.60      17.6        45           0   \n",
       "\n",
       "   Wind Speed  Latitude  Longitude  \n",
       "0        2.30  -53.1500   -70.9167  \n",
       "1        9.22  -19.5500   169.2667  \n",
       "2        4.00  -46.2817   169.8464  \n",
       "3        9.31  -46.1927   168.8643  \n",
       "4       12.66   69.2167   -51.1000  "
      ]
     },
     "execution_count": 11,
     "metadata": {},
     "output_type": "execute_result"
    }
   ],
   "source": [
    "weather_df.head()"
   ]
  },
  {
   "cell_type": "code",
   "execution_count": 12,
   "metadata": {
    "scrolled": true
   },
   "outputs": [
    {
     "data": {
      "image/png": "[encoded data removed]",
      "text/plain": [
       "<Figure size 432x288 with 1 Axes>"
      ]
     },
     "metadata": {
      "needs_background": "light"
     },
     "output_type": "display_data"
    }
   ],
   "source": [
    "#Scatterplot Lat vs Temp\n",
    "plt.scatter(weather_df['Latitude'], weather_df['Temperature'], edgecolor='black')\n",
    "#Set Axis Labels & Title\n",
    "plt.title('Latitude vs Temperature')\n",
    "plt.xlabel('Latitude')\n",
    "plt.ylabel('Temperature (F)')\n",
    "plt.savefig('Output_Results/lat_temp_scatter.png')"
   ]
  },
  {
   "cell_type": "markdown",
   "metadata": {},
   "source": [
    "The Latitude vs Temperature plot demonstrates how their latitude, or distance from the equator, effects the temperature in a city."
   ]
  },
  {
   "cell_type": "markdown",
   "metadata": {},
   "source": [
    "## Latitude vs. Humidity Plot"
   ]
  },
  {
   "cell_type": "code",
   "execution_count": 13,
   "metadata": {},
   "outputs": [
    {
     "data": {
      "image/png": "[encoded data removed]",
      "text/plain": [
       "<Figure size 432x288 with 1 Axes>"
      ]
     },
     "metadata": {
      "needs_background": "light"
     },
     "output_type": "display_data"
    }
   ],
   "source": [
    "#Scatterplot Lat vs Humidity\n",
    "plt.scatter(weather_df['Latitude'], weather_df['Humidity'], edgecolor='black')\n",
    "#Set Axis Labels & Title\n",
    "plt.title('Latitude vs Humidity')\n",
    "plt.xlabel('Latitude')\n",
    "plt.ylabel('Humidity')\n",
    "plt.savefig('Output_Results/lat_humidity_scatter.png')"
   ]
  },
  {
   "cell_type": "markdown",
   "metadata": {},
   "source": [
    "The Latitude vs Humidity Plot demonstrates that there is little correlation between the humidity and latitude coordinates."
   ]
  },
  {
   "cell_type": "markdown",
   "metadata": {},
   "source": [
    "## Latitude vs. Cloudiness Plot"
   ]
  },
  {
   "cell_type": "code",
   "execution_count": 14,
   "metadata": {},
   "outputs": [
    {
     "data": {
      "image/png": "[encoded data removed]",
      "text/plain": [
       "<Figure size 432x288 with 1 Axes>"
      ]
     },
     "metadata": {
      "needs_background": "light"
     },
     "output_type": "display_data"
    }
   ],
   "source": [
    "#Scatterplot Lat vs Cloudiness\n",
    "plt.scatter(weather_df['Latitude'], weather_df['Cloudiness'], edgecolor='black')\n",
    "#Set Axis Labels & Title\n",
    "plt.title('Latitude vs Cloudiness')\n",
    "plt.xlabel('Latitude')\n",
    "plt.ylabel('Cloudiness')\n",
    "plt.savefig('Output_Results/lat_cloud_scatter.png')"
   ]
  },
  {
   "cell_type": "markdown",
   "metadata": {},
   "source": [
    "The Latitude vs Cloudiness Plot demonstrates that there is little correlation between the cloudiness and latitude coordinates."
   ]
  },
  {
   "cell_type": "markdown",
   "metadata": {},
   "source": [
    "# Latitude vs. Wind Speed Plot"
   ]
  },
  {
   "cell_type": "code",
   "execution_count": 15,
   "metadata": {},
   "outputs": [
    {
     "data": {
      "image/png": "[encoded data removed]",
      "text/plain": [
       "<Figure size 432x288 with 1 Axes>"
      ]
     },
     "metadata": {
      "needs_background": "light"
     },
     "output_type": "display_data"
    }
   ],
   "source": [
    "#Scatterplot Lat vs Wind Speed\n",
    "plt.scatter(weather_df['Latitude'], weather_df['Wind Speed'], edgecolor='black')\n",
    "#Set Axis Labels & Title\n",
    "plt.title('Latitude vs Wind Speed')\n",
    "plt.xlabel('Latitude')\n",
    "plt.ylabel('Wind Speed')\n",
    "plt.savefig('Output_Results/lat_wind_scatter.png')"
   ]
  },
  {
   "cell_type": "markdown",
   "metadata": {},
   "source": [
    "The Latitude vs Wind Speed Plot demonstrates that there is little correlation between wind speed and latitude coordinates."
   ]
  },
  {
   "cell_type": "markdown",
   "metadata": {},
   "source": [
    "## Linear Regression"
   ]
  },
  {
   "cell_type": "code",
   "execution_count": 16,
   "metadata": {},
   "outputs": [],
   "source": [
    "#set hemispheres\n",
    "northern = weather_df.loc[weather_df['Latitude'] >= 0]\n",
    "southern = weather_df.loc[weather_df['Latitude'] < 0]\n",
    "#Set linear regression model & Scatter plots\n",
    "def linear_regression(xvalues,yvalues):\n",
    "    cor_co = st.pearsonr(xvalues, yvalues)\n",
    "    print(f\"The r-squared is: {round(cor_co[0],2)}.\")\n",
    "    (slope, intercept, rvalue, pvalue, stderr)= linregress(xvalues, yvalues)\n",
    "    rvalues = xvalues * slope + intercept\n",
    "    linear_eq = f'y = {str(round(slope,2))}x + {str(round(intercept,2))}'\n",
    "    plt.scatter(xvalues, yvalues)\n",
    "    plt.plot(xvalues, rvalues, \"r-\")\n",
    "    return linear_eq\n",
    "\n",
    "#Set annotation function\n",
    "def annotate(linear_eq, a, b):\n",
    "    plt.annotate(linear_eq, (a,b), fontsize=13, color='black')"
   ]
  },
  {
   "cell_type": "markdown",
   "metadata": {},
   "source": [
    "####  Northern Hemisphere - Max Temp vs. Latitude Linear Regression"
   ]
  },
  {
   "cell_type": "code",
   "execution_count": 17,
   "metadata": {},
   "outputs": [
    {
     "name": "stdout",
     "output_type": "stream",
     "text": [
      "The r-squared is: -0.88.\n"
     ]
    },
    {
     "data": {
      "image/png": "[encoded data removed]",
      "text/plain": [
       "<Figure size 432x288 with 1 Axes>"
      ]
     },
     "metadata": {
      "needs_background": "light"
     },
     "output_type": "display_data"
    }
   ],
   "source": [
    "#Plot LinReg & annotate \n",
    "northern_maxtemp = linear_regression(northern['Latitude'], northern['Max Temp'])\n",
    "annotate(northern_maxtemp, 10, 0)\n",
    "#Set Axis Labels & Title\n",
    "plt.title('Northern Hemisphere - Max Temp vs. Latitude')\n",
    "plt.xlabel('Latitude')\n",
    "plt.ylabel('Max Temp (F)')\n",
    "plt.savefig('Output_Results/northern_temp_lat_linreg.png')"
   ]
  },
  {
   "cell_type": "markdown",
   "metadata": {},
   "source": [
    "####  Southern Hemisphere - Max Temp vs. Latitude Linear Regression"
   ]
  },
  {
   "cell_type": "code",
   "execution_count": 18,
   "metadata": {},
   "outputs": [
    {
     "name": "stdout",
     "output_type": "stream",
     "text": [
      "The r-squared is: 0.54.\n"
     ]
    },
    {
     "data": {
      "image/png": "[encoded data removed]",
      "text/plain": [
       "<Figure size 432x288 with 1 Axes>"
      ]
     },
     "metadata": {
      "needs_background": "light"
     },
     "output_type": "display_data"
    }
   ],
   "source": [
    "#Plot LinReg & annotate \n",
    "southern_maxtemp = linear_regression(southern['Latitude'], southern['Max Temp'])\n",
    "annotate(southern_maxtemp, -30, 50)\n",
    "#Set Axis Labels & Title\n",
    "plt.title('Southern Hemisphere - Max Temp vs. Latitude')\n",
    "plt.xlabel('Latitude')\n",
    "plt.ylabel('Max Temp (F)')\n",
    "plt.savefig('Output_Results/southern_temp_lat_linreg.png')"
   ]
  },
  {
   "cell_type": "markdown",
   "metadata": {},
   "source": [
    "Latitude is defined by the distance from the equator. The Linear Regression for Max Temp vs Latitude shows that the closer a city is to the equator, the warmer it is. "
   ]
  },
  {
   "cell_type": "markdown",
   "metadata": {},
   "source": [
    "####  Northern Hemisphere - Humidity (%) vs. Latitude Linear Regression"
   ]
  },
  {
   "cell_type": "code",
   "execution_count": 19,
   "metadata": {},
   "outputs": [
    {
     "name": "stdout",
     "output_type": "stream",
     "text": [
      "The r-squared is: 0.36.\n"
     ]
    },
    {
     "data": {
      "image/png": "[encoded data removed]",
      "text/plain": [
       "<Figure size 432x288 with 1 Axes>"
      ]
     },
     "metadata": {
      "needs_background": "light"
     },
     "output_type": "display_data"
    }
   ],
   "source": [
    "#Plot LinReg & annotate \n",
    "northern_humidity = linear_regression(northern['Latitude'], northern['Humidity'])\n",
    "annotate(northern_humidity, 40, 15)\n",
    "#Set Axis Labels & Title\n",
    "plt.title('Northern Hemisphere - Humidity(%) vs. Latitude')\n",
    "plt.xlabel('Latitude')\n",
    "plt.ylabel('Humidity(%)')\n",
    "plt.savefig('Output_Results/northern_humidity_linreg.png')"
   ]
  },
  {
   "cell_type": "markdown",
   "metadata": {},
   "source": [
    "####  Southern Hemisphere - Humidity (%) vs. Latitude Linear Regression"
   ]
  },
  {
   "cell_type": "code",
   "execution_count": 20,
   "metadata": {},
   "outputs": [
    {
     "name": "stdout",
     "output_type": "stream",
     "text": [
      "The r-squared is: 0.24.\n"
     ]
    },
    {
     "data": {
      "image/png": "[encoded data removed]",
      "text/plain": [
       "<Figure size 432x288 with 1 Axes>"
      ]
     },
     "metadata": {
      "needs_background": "light"
     },
     "output_type": "display_data"
    }
   ],
   "source": [
    "#Plot LinReg & annotate \n",
    "southern_humidity = linear_regression(southern['Latitude'], southern['Humidity'])\n",
    "annotate(southern_humidity, -20, 30)\n",
    "#Set Axis Labels & Title\n",
    "plt.title('Southern Hemisphere - Humidity(%) vs. Latitude')\n",
    "plt.xlabel('Latitude')\n",
    "plt.ylabel('Humidity(%)')\n",
    "plt.savefig('Output_Results/southern_humidity_linreg.png')"
   ]
  },
  {
   "cell_type": "markdown",
   "metadata": {},
   "source": [
    "There is greater humidity when closer to the equator. The lower the latitude, the higher the humidity."
   ]
  },
  {
   "cell_type": "markdown",
   "metadata": {},
   "source": [
    "####  Northern Hemisphere - Cloudiness (%) vs. Latitude Linear Regression"
   ]
  },
  {
   "cell_type": "code",
   "execution_count": 21,
   "metadata": {},
   "outputs": [
    {
     "name": "stdout",
     "output_type": "stream",
     "text": [
      "The r-squared is: 0.07.\n"
     ]
    },
    {
     "data": {
      "image/png": "[encoded data removed]",
      "text/plain": [
       "<Figure size 432x288 with 1 Axes>"
      ]
     },
     "metadata": {
      "needs_background": "light"
     },
     "output_type": "display_data"
    }
   ],
   "source": [
    "#Plot LinReg & annotate \n",
    "northern_cloudiness = linear_regression(northern['Latitude'], northern['Cloudiness'])\n",
    "annotate(northern_cloudiness, 52, 47)\n",
    "#Set Axis Labels & Title\n",
    "plt.title('Northern Hemisphere - Cloudiness(%) vs. Latitude')\n",
    "plt.xlabel('Latitude')\n",
    "plt.ylabel('Cloudiness(%)')\n",
    "plt.savefig('Output_Results/northern_cloudiness_linreg.png')"
   ]
  },
  {
   "cell_type": "markdown",
   "metadata": {},
   "source": [
    "####  Southern Hemisphere - Cloudiness (%) vs. Latitude Linear Regression"
   ]
  },
  {
   "cell_type": "code",
   "execution_count": 22,
   "metadata": {},
   "outputs": [
    {
     "name": "stdout",
     "output_type": "stream",
     "text": [
      "The r-squared is: 0.46.\n"
     ]
    },
    {
     "data": {
      "image/png": "[encoded data removed]",
      "text/plain": [
       "<Figure size 432x288 with 1 Axes>"
      ]
     },
     "metadata": {
      "needs_background": "light"
     },
     "output_type": "display_data"
    }
   ],
   "source": [
    "#Plot LinReg & annotate \n",
    "southern_cloudiness = linear_regression(southern['Latitude'], southern['Cloudiness'])\n",
    "annotate(southern_cloudiness, -55, 43)\n",
    "#Set Axis Labels & Title\n",
    "plt.title('Southern Hemisphere - Cloudiness(%) vs. Latitude')\n",
    "plt.xlabel('Latitude')\n",
    "plt.ylabel('Cloudiness(%)')\n",
    "plt.savefig('Output_Results/southern_cloudiness_linreg.png')"
   ]
  },
  {
   "cell_type": "markdown",
   "metadata": {},
   "source": [
    "The Latitude does not have an affect on cloudiness."
   ]
  },
  {
   "cell_type": "markdown",
   "metadata": {},
   "source": [
    "####  Northern Hemisphere - Wind Speed (mph) vs. Latitude Linear Regression"
   ]
  },
  {
   "cell_type": "code",
   "execution_count": 23,
   "metadata": {},
   "outputs": [
    {
     "name": "stdout",
     "output_type": "stream",
     "text": [
      "The r-squared is: 0.03.\n"
     ]
    },
    {
     "data": {
      "image/png": "[encoded data removed]",
      "text/plain": [
       "<Figure size 432x288 with 1 Axes>"
      ]
     },
     "metadata": {
      "needs_background": "light"
     },
     "output_type": "display_data"
    }
   ],
   "source": [
    "#Plot LinReg & annotate \n",
    "northern_wind = linear_regression(northern['Latitude'], northern['Wind Speed'])\n",
    "annotate(northern_wind, 5, 30)\n",
    "#Set Axis Labels & Title\n",
    "plt.title('Northern Hemisphere - Wind Speed vs. Latitude')\n",
    "plt.xlabel('Latitude')\n",
    "plt.ylabel('Wind Speed')\n",
    "plt.savefig('Output_Results/northern_wind_linreg.png')"
   ]
  },
  {
   "cell_type": "markdown",
   "metadata": {},
   "source": [
    "####  Southern Hemisphere - Wind Speed (mph) vs. Latitude Linear Regression"
   ]
  },
  {
   "cell_type": "code",
   "execution_count": 24,
   "metadata": {},
   "outputs": [
    {
     "name": "stdout",
     "output_type": "stream",
     "text": [
      "The r-squared is: 0.46.\n"
     ]
    },
    {
     "data": {
      "image/png": "[encoded data removed]",
      "text/plain": [
       "<Figure size 432x288 with 1 Axes>"
      ]
     },
     "metadata": {
      "needs_background": "light"
     },
     "output_type": "display_data"
    }
   ],
   "source": [
    "#Plot LinReg & annotate \n",
    "southern_wind = linear_regression(southern['Latitude'], southern['Cloudiness'])\n",
    "annotate(southern_wind, -55, 43)\n",
    "#Set Axis Labels & Title\n",
    "plt.title('Southern Hemisphere - Wind Speed vs. Latitude')\n",
    "plt.xlabel('Latitude')\n",
    "plt.ylabel('Wind Speed')\n",
    "plt.savefig('Output_Results/southern_wind_linreg.png')"
   ]
  },
  {
   "cell_type": "markdown",
   "metadata": {},
   "source": [
    "The Latitude does not have an affect on wind speed."
   ]
  },
  {
   "cell_type": "code",
   "execution_count": null,
   "metadata": {},
   "outputs": [],
   "source": []
  }
 ],
 "metadata": {
  "anaconda-cloud": {},
  "kernel_info": {
   "name": "python3"
  },
  "kernelspec": {
   "display_name": "Python 3",
   "language": "python",
   "name": "python3"
  },
  "language_info": {
   "codemirror_mode": {
    "name": "ipython",
    "version": 3
   },
   "file_extension": ".py",
   "mimetype": "text/x-python",
   "name": "python",
   "nbconvert_exporter": "python",
   "pygments_lexer": "ipython3",
   "version": "3.8.5"
  },
  "latex_envs": {
   "LaTeX_envs_menu_present": true,
   "autoclose": false,
   "autocomplete": true,
   "bibliofile": "biblio.bib",
   "cite_by": "apalike",
   "current_citInitial": 1,
   "eqLabelWithNumbers": true,
   "eqNumInitial": 1,
   "hotkeys": {
    "equation": "Ctrl-E",
    "itemize": "Ctrl-I"
   },
   "labels_anchors": false,
   "latex_user_defs": false,
   "report_style_numbering": false,
   "user_envs_cfg": false
  },
  "nteract": {
   "version": "0.12.3"
  }
 },
 "nbformat": 4,
 "nbformat_minor": 2
}
